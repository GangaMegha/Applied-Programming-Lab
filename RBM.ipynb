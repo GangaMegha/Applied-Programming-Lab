{
  "nbformat": 4,
  "nbformat_minor": 0,
  "metadata": {
    "colab": {
      "name": "RBM.ipynb",
      "provenance": [],
      "collapsed_sections": [],
      "authorship_tag": "ABX9TyO2BbmbExRjYaClTTPOpnkc",
      "include_colab_link": true
    },
    "kernelspec": {
      "name": "python3",
      "display_name": "Python 3"
    },
    "language_info": {
      "name": "python"
    }
  },
  "cells": [
    {
      "cell_type": "markdown",
      "metadata": {
        "id": "view-in-github",
        "colab_type": "text"
      },
      "source": [
        "<a href=\"https://colab.research.google.com/github/GangaMegha/Applied-Programming-Lab/blob/master/RBM.ipynb\" target=\"_parent\"><img src=\"https://colab.research.google.com/assets/colab-badge.svg\" alt=\"Open In Colab\"/></a>"
      ]
    },
    {
      "cell_type": "code",
      "metadata": {
        "id": "FcyDht9LwHXP"
      },
      "source": [
        "import numpy as np\n",
        "\n",
        "import matplotlib.pyplot as plt\n",
        "\n",
        "# Import MNIST data\n",
        "from keras.datasets import mnist"
      ],
      "execution_count": 9,
      "outputs": []
    },
    {
      "cell_type": "markdown",
      "metadata": {
        "id": "bpN1fuKVG8DQ"
      },
      "source": [
        "# RBM class"
      ]
    },
    {
      "cell_type": "code",
      "metadata": {
        "id": "DgSFBOGKG_OC"
      },
      "source": [
        "class RBM():\n",
        "    def __init__(self, num_hidden, num_visible, lr, n, batch_size, epochs):\n",
        "        self.num_hidden = num_hidden\n",
        "        self.num_visible = num_visible\n",
        "        self.lr = lr\n",
        "        self.n = n\n",
        "        self.batch_size = batch_size\n",
        "        self.epochs = epochs\n",
        "\n",
        "        self.W = np.random.randn(num_hidden, num_visible)/np.sqrt(0.5*(num_visible + num_hidden)) # weights\n",
        "\n",
        "        self.b_h = np.zeros((num_hidden, 1)) # bias latent\n",
        "        self.b_v = np.zeros((num_visible, 1)) # bias visible\n",
        "\n",
        "        self.dW = []\n",
        "        self.db_h = []\n",
        "        self.db_v = []\n",
        "\n",
        "    def sigmoid(self, x):  \n",
        "        #Sigmoid activation \n",
        "        #Implemented interms  of tanh for increased stability\n",
        "        return .5 * (1 + np.tanh(.5 * x))\n",
        "\n",
        "    \n",
        "    def bernoulli_array(self, prob_array, dim):\n",
        "        # Simulating Bernoulli from uniform\n",
        "        sample = np.zeros(dim)\n",
        "\n",
        "        # Draw x~Uni[0,1]\n",
        "        uni_sample = np.random.uniform(0, 1, dim)\n",
        "\n",
        "        # return 1 if x < p else return 0\n",
        "        diff = uni_sample - prob_array\n",
        "        coords = np.argwhere(diff<0)\n",
        "        sample[[*coords.T]] = 1  \n",
        "\n",
        "        return sample\n",
        "\n",
        "    def gibbs_sampling(self, h_0):\n",
        "\n",
        "        h = h_0.copy()\n",
        "\n",
        "        for i in range(self.n):\n",
        "\n",
        "            # (v x h) @ (h x b) + (v x 1) = (v x b)\n",
        "            p_v_h = self.sigmoid(self.W.T @ h + self.b_v)\n",
        "            v = self.bernoulli_array(p_v_h, (p_v_h.shape[0], p_v_h.shape[1]))\n",
        "\n",
        "            # (h x v) @ (v x b) + (h x 1) = (h x b)\n",
        "            p_h_v = self.sigmoid(self.W @ v + self.b_h)\n",
        "            h = self.bernoulli_array(p_h_v, (p_h_v.shape[0], p_h_v.shape[1]))\n",
        "\n",
        "        return v, h, p_h_v\n",
        "\n",
        "    def gradient_descent(self, v_0, p_h_v_0, v_n, p_h_v_n):\n",
        "\n",
        "        # Compute the gradients\n",
        "        # (h x b) @ (b x v) - (h x b) @ (b x v) = (h x v)\n",
        "        self.dW = (p_h_v_0 @ v_0 - p_h_v_n @ v_n)/self.batch_size\n",
        "        self.db_h = np.mean(p_h_v_0 - p_h_v_n, axis=1)[:, np.newaxis]\n",
        "        self.db_v = np.mean(v_0 - v_n, axis=0)[:, np.newaxis]\n",
        "        \n",
        "        # Weight update\n",
        "        self.W   = self.W   + self.lr * self.dW\n",
        "        self.b_h = self.b_h + self.lr * self.db_h\n",
        "        self.b_v = self.b_v + self.lr * self.db_v\n",
        "\n",
        "\n",
        "    def reconstruction_error(self, v):\n",
        "        # Sample hidden state\n",
        "        p_h_v = self.sigmoid(self.W @ v + self.b_h)\n",
        "        h = self.bernoulli_array(p_h_v, (p_h_v.shape[0], p_h_v.shape[1]))\n",
        "\n",
        "        # Sample viible state\n",
        "        p_v_h = self.sigmoid(self.W.T @ h + self.b_v)\n",
        "        v_sampled = self.bernoulli_array(p_v_h, (p_v_h.shape[0], p_v_h.shape[1]))    \n",
        "\n",
        "        return np.sum(np.mean((v-v_sampled)**2, axis=1), axis=0)\n",
        "\n",
        "\n",
        "    def reconstruct_image(self, v):\n",
        "        # Sample hidden state\n",
        "        p_h_v = self.sigmoid(self.W @ v + self.b_h)\n",
        "        h = self.bernoulli_array(p_h_v, (p_h_v.shape[0], p_h_v.shape[1]))\n",
        "\n",
        "        # Sample viible state\n",
        "        p_v_h = self.sigmoid(self.W.T @ h + self.b_v)\n",
        "        v_sampled = self.bernoulli_array(p_v_h, (p_v_h.shape[0], p_v_h.shape[1]))    \n",
        "\n",
        "        return v_sampled\n",
        "\n",
        "\n",
        "    def Train(self, train, val):\n",
        "\n",
        "        num_batches = int(train.shape[0]/batch_size)\n",
        "        train_loss = []\n",
        "        val_loss = []\n",
        "\n",
        "        for epoch in range(self.epochs):\n",
        "\n",
        "            # Shuffling the data\n",
        "            train = np.random.permutation(train)\n",
        "\n",
        "            # Splitting data into batches\n",
        "            batches = np.array_split(train, num_batches)\n",
        "\n",
        "            for i in range(num_batches):\n",
        "\n",
        "                # visible units from data\n",
        "                v_0 = batches[i].T\n",
        "\n",
        "                # (h x v) @ (v x b) + (h x 1) = (h x b)\n",
        "                p_h_v_0 = self.sigmoid(self.W @ v_0 + self.b_h)\n",
        "                h_0 = self.bernoulli_array(p_h_v_0, (p_h_v_0.shape[0], p_h_v_0.shape[1]))\n",
        "\n",
        "                # Run the markov chain\n",
        "                v_n, h_n, p_h_v_n = self.gibbs_sampling(h_0)\n",
        "\n",
        "                # Compute gradients\n",
        "                self.gradient_descent(v_0.T, p_h_v_0, v_n.T, p_h_v_n)\n",
        "\n",
        "            # Compute reconstruction errror\n",
        "            error_train = self.reconstruction_error(train.T)\n",
        "            error_val = self.reconstruction_error(val.T)\n",
        "\n",
        "            print(f\"Epoch {epoch+1} ------> Error => Train : {error_train}, Val : {error_val}\")\n",
        " \n",
        "            train_loss.append(error_train)\n",
        "            val_loss.append(error_val)\n",
        "\n",
        "        return train_loss, val_loss\n",
        "\n"
      ],
      "execution_count": 10,
      "outputs": []
    },
    {
      "cell_type": "markdown",
      "metadata": {
        "id": "kJ6GU55s92Qa"
      },
      "source": [
        "# MNIST data"
      ]
    },
    {
      "cell_type": "code",
      "metadata": {
        "colab": {
          "base_uri": "https://localhost:8080/",
          "height": 373
        },
        "id": "DOp2JtgT9l0P",
        "outputId": "427d751f-1d38-4fa3-ebe7-6a9be9460ec7"
      },
      "source": [
        "# Load MNIST data\n",
        "(train, train_y), (test, test_y) = mnist.load_data()\n",
        "\n",
        "# Converting to binary\n",
        "train[[*np.argwhere(train>0).T]] = 1\n",
        "test[[*np.argwhere(test>0).T]] = 1\n",
        "\n",
        "\n",
        "fig = plt.figure()\n",
        "for i in range(9):\n",
        "  plt.subplot(3,3,i+1)\n",
        "  plt.tight_layout()\n",
        "  plt.imshow(train[i], cmap='gray', interpolation='none')\n",
        "  plt.title(\"Digit: {}\".format(train_y[i]))\n",
        "  plt.xticks([])\n",
        "  plt.yticks([])"
      ],
      "execution_count": 11,
      "outputs": [
        {
          "output_type": "stream",
          "text": [
            "/usr/local/lib/python3.7/dist-packages/ipykernel_launcher.py:5: FutureWarning: Using a non-tuple sequence for multidimensional indexing is deprecated; use `arr[tuple(seq)]` instead of `arr[seq]`. In the future this will be interpreted as an array index, `arr[np.array(seq)]`, which will result either in an error or a different result.\n",
            "  \"\"\"\n",
            "/usr/local/lib/python3.7/dist-packages/ipykernel_launcher.py:6: FutureWarning: Using a non-tuple sequence for multidimensional indexing is deprecated; use `arr[tuple(seq)]` instead of `arr[seq]`. In the future this will be interpreted as an array index, `arr[np.array(seq)]`, which will result either in an error or a different result.\n",
            "  \n"
          ],
          "name": "stderr"
        },
        {
          "output_type": "display_data",
          "data": {
            "image/png": "[encoded data removed]",
            "text/plain": [
              "<Figure size 432x288 with 9 Axes>"
            ]
          },
          "metadata": {
            "tags": []
          }
        }
      ]
    },
    {
      "cell_type": "code",
      "metadata": {
        "colab": {
          "base_uri": "https://localhost:8080/"
        },
        "id": "Z0uFtm7E9dvU",
        "outputId": "d387a543-fb47-470c-bd7d-2da1f28ff62b"
      },
      "source": [
        "# Split data into Train, Val, Test and flatten the images\n",
        "frac = 0.15\n",
        "\n",
        "n = int(frac*(train.shape[0]))\n",
        "val = train[:n]\n",
        "train = train[n:]\n",
        "\n",
        "train = train.reshape(train.shape[0], -1)\n",
        "val = val.reshape(val.shape[0], -1)\n",
        "test = test.reshape(test.shape[0], -1)\n",
        "\n",
        "print('Train: ', train.shape)\n",
        "print('Val: ', val.shape)\n",
        "print('Test:  ', test.shape)"
      ],
      "execution_count": 12,
      "outputs": [
        {
          "output_type": "stream",
          "text": [
            "Train:  (51000, 784)\n",
            "Val:  (9000, 784)\n",
            "Test:   (10000, 784)\n"
          ],
          "name": "stdout"
        }
      ]
    },
    {
      "cell_type": "markdown",
      "metadata": {
        "id": "-7sT-yDYPI2M"
      },
      "source": [
        "# Train and Inference"
      ]
    },
    {
      "cell_type": "code",
      "metadata": {
        "id": "yCLe1EBNPT-W"
      },
      "source": [
        "# RBM config\n",
        "num_hidden = 256 # number of hidden units\n",
        "lr = 0.001 # learning rate for gradient descent\n",
        "n = 1 # number of Gibbs sampling steps\n",
        "batch_size = 100 # mini batch size for gradient update\n",
        "epochs = 100 # number of epochs"
      ],
      "execution_count": 22,
      "outputs": []
    },
    {
      "cell_type": "code",
      "metadata": {
        "colab": {
          "base_uri": "https://localhost:8080/"
        },
        "id": "C3sHXwRmmmkt",
        "outputId": "4b05aeaa-374d-4deb-f279-82eb65cdb6f8"
      },
      "source": [
        "rbm = RBM(num_hidden, val.shape[1], lr, n, batch_size, epochs)\n",
        "train_loss, val_loss = rbm.Train(train, val)"
      ],
      "execution_count": 23,
      "outputs": [
        {
          "output_type": "stream",
          "text": [
            "/usr/local/lib/python3.7/dist-packages/ipykernel_launcher.py:35: FutureWarning: Using a non-tuple sequence for multidimensional indexing is deprecated; use `arr[tuple(seq)]` instead of `arr[seq]`. In the future this will be interpreted as an array index, `arr[np.array(seq)]`, which will result either in an error or a different result.\n"
          ],
          "name": "stderr"
        },
        {
          "output_type": "stream",
          "text": [
            "Epoch 1 ------> Error => Train : 163.1499019607843, Val : 162.3958888888889\n",
            "Epoch 2 ------> Error => Train : 148.05913725490194, Val : 147.4051111111111\n",
            "Epoch 3 ------> Error => Train : 134.47050980392157, Val : 133.86744444444443\n",
            "Epoch 4 ------> Error => Train : 124.04627450980392, Val : 123.40644444444445\n",
            "Epoch 5 ------> Error => Train : 116.4697843137255, Val : 115.65044444444445\n",
            "Epoch 6 ------> Error => Train : 110.9540980392157, Val : 110.20855555555556\n",
            "Epoch 7 ------> Error => Train : 106.66366666666667, Val : 105.81666666666666\n",
            "Epoch 8 ------> Error => Train : 103.33003921568627, Val : 102.46777777777777\n",
            "Epoch 9 ------> Error => Train : 100.44394117647059, Val : 99.74700000000001\n",
            "Epoch 10 ------> Error => Train : 97.91754901960783, Val : 97.3591111111111\n",
            "Epoch 11 ------> Error => Train : 95.83496078431372, Val : 95.26666666666667\n",
            "Epoch 12 ------> Error => Train : 93.83923529411766, Val : 93.00200000000001\n",
            "Epoch 13 ------> Error => Train : 92.2534705882353, Val : 91.60244444444444\n",
            "Epoch 14 ------> Error => Train : 90.41276470588235, Val : 89.70055555555555\n",
            "Epoch 15 ------> Error => Train : 89.04017647058824, Val : 88.509\n",
            "Epoch 16 ------> Error => Train : 87.65282352941176, Val : 86.95066666666668\n",
            "Epoch 17 ------> Error => Train : 86.39323529411764, Val : 85.87366666666667\n",
            "Epoch 18 ------> Error => Train : 85.30821568627451, Val : 84.86722222222224\n",
            "Epoch 19 ------> Error => Train : 84.13798039215686, Val : 83.53455555555556\n",
            "Epoch 20 ------> Error => Train : 83.131, Val : 82.7407777777778\n",
            "Epoch 21 ------> Error => Train : 82.06535294117647, Val : 81.56377777777777\n",
            "Epoch 22 ------> Error => Train : 81.26035294117648, Val : 80.58377777777777\n",
            "Epoch 23 ------> Error => Train : 80.40547058823529, Val : 79.87044444444444\n",
            "Epoch 24 ------> Error => Train : 79.4868431372549, Val : 78.91866666666667\n",
            "Epoch 25 ------> Error => Train : 78.72398039215686, Val : 78.19088888888888\n",
            "Epoch 26 ------> Error => Train : 77.88688235294117, Val : 77.27822222222221\n",
            "Epoch 27 ------> Error => Train : 77.09043137254903, Val : 76.55622222222223\n",
            "Epoch 28 ------> Error => Train : 76.42898039215686, Val : 75.83022222222222\n",
            "Epoch 29 ------> Error => Train : 75.69449019607842, Val : 75.14377777777779\n",
            "Epoch 30 ------> Error => Train : 75.07919607843137, Val : 74.64766666666668\n",
            "Epoch 31 ------> Error => Train : 74.47866666666667, Val : 73.979\n",
            "Epoch 32 ------> Error => Train : 73.82021568627451, Val : 73.34522222222222\n",
            "Epoch 33 ------> Error => Train : 73.23123529411764, Val : 72.74388888888889\n",
            "Epoch 34 ------> Error => Train : 72.69154901960783, Val : 72.21811111111111\n",
            "Epoch 35 ------> Error => Train : 72.03094117647058, Val : 71.549\n",
            "Epoch 36 ------> Error => Train : 71.55407843137255, Val : 71.155\n",
            "Epoch 37 ------> Error => Train : 71.06464705882352, Val : 70.63177777777778\n",
            "Epoch 38 ------> Error => Train : 70.62241176470589, Val : 70.26744444444444\n",
            "Epoch 39 ------> Error => Train : 70.10107843137254, Val : 69.72177777777779\n",
            "Epoch 40 ------> Error => Train : 69.6577843137255, Val : 69.15455555555556\n",
            "Epoch 41 ------> Error => Train : 69.16988235294119, Val : 68.65655555555556\n",
            "Epoch 42 ------> Error => Train : 68.74986274509803, Val : 68.226\n",
            "Epoch 43 ------> Error => Train : 68.35554901960785, Val : 67.92622222222222\n",
            "Epoch 44 ------> Error => Train : 67.90143137254901, Val : 67.39555555555556\n",
            "Epoch 45 ------> Error => Train : 67.52596078431372, Val : 66.94611111111112\n",
            "Epoch 46 ------> Error => Train : 67.13235294117648, Val : 66.67477777777778\n",
            "Epoch 47 ------> Error => Train : 66.68817647058825, Val : 66.31\n",
            "Epoch 48 ------> Error => Train : 66.39458823529412, Val : 65.99044444444445\n",
            "Epoch 49 ------> Error => Train : 66.05245098039215, Val : 65.54666666666667\n",
            "Epoch 50 ------> Error => Train : 65.62498039215686, Val : 65.24977777777778\n",
            "Epoch 51 ------> Error => Train : 65.29033333333334, Val : 64.88322222222223\n",
            "Epoch 52 ------> Error => Train : 65.00176470588235, Val : 64.5201111111111\n",
            "Epoch 53 ------> Error => Train : 64.71054901960784, Val : 64.15022222222223\n",
            "Epoch 54 ------> Error => Train : 64.40443137254903, Val : 64.12066666666666\n",
            "Epoch 55 ------> Error => Train : 64.07545098039216, Val : 63.60022222222222\n",
            "Epoch 56 ------> Error => Train : 63.79037254901961, Val : 63.523666666666664\n",
            "Epoch 57 ------> Error => Train : 63.49256862745098, Val : 63.078111111111106\n",
            "Epoch 58 ------> Error => Train : 63.20056862745098, Val : 62.68666666666667\n",
            "Epoch 59 ------> Error => Train : 62.92678431372549, Val : 62.676\n",
            "Epoch 60 ------> Error => Train : 62.644019607843134, Val : 62.26511111111111\n",
            "Epoch 61 ------> Error => Train : 62.31549019607843, Val : 61.901222222222216\n",
            "Epoch 62 ------> Error => Train : 62.1305294117647, Val : 61.68177777777778\n",
            "Epoch 63 ------> Error => Train : 61.87586274509804, Val : 61.40466666666667\n",
            "Epoch 64 ------> Error => Train : 61.56656862745098, Val : 61.13488888888889\n",
            "Epoch 65 ------> Error => Train : 61.38276470588235, Val : 60.858111111111114\n",
            "Epoch 66 ------> Error => Train : 61.085098039215694, Val : 60.69755555555555\n",
            "Epoch 67 ------> Error => Train : 60.91692156862745, Val : 60.352666666666664\n",
            "Epoch 68 ------> Error => Train : 60.6315294117647, Val : 60.19288888888889\n",
            "Epoch 69 ------> Error => Train : 60.35188235294118, Val : 59.96788888888889\n",
            "Epoch 70 ------> Error => Train : 60.142901960784314, Val : 59.73244444444445\n",
            "Epoch 71 ------> Error => Train : 59.894000000000005, Val : 59.46300000000001\n",
            "Epoch 72 ------> Error => Train : 59.7226274509804, Val : 59.29655555555556\n",
            "Epoch 73 ------> Error => Train : 59.53539215686275, Val : 59.150222222222226\n",
            "Epoch 74 ------> Error => Train : 59.30174509803922, Val : 58.94222222222223\n",
            "Epoch 75 ------> Error => Train : 59.09492156862745, Val : 58.72522222222223\n",
            "Epoch 76 ------> Error => Train : 58.911, Val : 58.46188888888889\n",
            "Epoch 77 ------> Error => Train : 58.70862745098039, Val : 58.29833333333333\n",
            "Epoch 78 ------> Error => Train : 58.47666666666666, Val : 58.30566666666667\n",
            "Epoch 79 ------> Error => Train : 58.258156862745096, Val : 57.87488888888889\n",
            "Epoch 80 ------> Error => Train : 58.140686274509804, Val : 57.82055555555556\n",
            "Epoch 81 ------> Error => Train : 58.01413725490196, Val : 57.46688888888889\n",
            "Epoch 82 ------> Error => Train : 57.74478431372549, Val : 57.43055555555555\n",
            "Epoch 83 ------> Error => Train : 57.53996078431373, Val : 57.17322222222222\n",
            "Epoch 84 ------> Error => Train : 57.35790196078432, Val : 56.99211111111111\n",
            "Epoch 85 ------> Error => Train : 57.176607843137255, Val : 56.80988888888889\n",
            "Epoch 86 ------> Error => Train : 56.977980392156866, Val : 56.59133333333334\n",
            "Epoch 87 ------> Error => Train : 56.88392156862745, Val : 56.54366666666667\n",
            "Epoch 88 ------> Error => Train : 56.69811764705882, Val : 56.364666666666665\n",
            "Epoch 89 ------> Error => Train : 56.53327450980392, Val : 56.17555555555555\n",
            "Epoch 90 ------> Error => Train : 56.286450980392154, Val : 56.00333333333333\n",
            "Epoch 91 ------> Error => Train : 56.15170588235294, Val : 55.830555555555556\n",
            "Epoch 92 ------> Error => Train : 56.0241568627451, Val : 55.73055555555556\n",
            "Epoch 93 ------> Error => Train : 55.891352941176464, Val : 55.54922222222222\n",
            "Epoch 94 ------> Error => Train : 55.74447058823529, Val : 55.349888888888884\n",
            "Epoch 95 ------> Error => Train : 55.58196078431372, Val : 55.297333333333334\n",
            "Epoch 96 ------> Error => Train : 55.396431372549024, Val : 55.04333333333333\n",
            "Epoch 97 ------> Error => Train : 55.28435294117647, Val : 54.94688888888889\n",
            "Epoch 98 ------> Error => Train : 55.15509803921569, Val : 54.74933333333333\n",
            "Epoch 99 ------> Error => Train : 54.98454901960784, Val : 54.69111111111111\n",
            "Epoch 100 ------> Error => Train : 54.81805882352941, Val : 54.543\n"
          ],
          "name": "stdout"
        }
      ]
    },
    {
      "cell_type": "code",
      "metadata": {
        "colab": {
          "base_uri": "https://localhost:8080/",
          "height": 312
        },
        "id": "-Yefr5jKS7AT",
        "outputId": "4f0980e3-0bf0-48d9-8e93-b8e2d36f1824"
      },
      "source": [
        "fig = plt.figure()\n",
        "plt.plot(train_loss, c='r', label=\"Train\")\n",
        "plt.plot(val_loss, c='g', label=\"Val\")\n",
        "plt.legend()\n",
        "plt.title(\"Reconstruction Error\")\n",
        "plt.xlabel(\"Epoch\")\n",
        "plt.ylabel(\"Error\")"
      ],
      "execution_count": 24,
      "outputs": [
        {
          "output_type": "execute_result",
          "data": {
            "text/plain": [
              "Text(0, 0.5, 'Error')"
            ]
          },
          "metadata": {
            "tags": []
          },
          "execution_count": 24
        },
        {
          "output_type": "display_data",
          "data": {
            "image/png": "[encoded data removed]",
            "text/plain": [
              "<Figure size 432x288 with 1 Axes>"
            ]
          },
          "metadata": {
            "tags": [],
            "needs_background": "light"
          }
        }
      ]
    },
    {
      "cell_type": "markdown",
      "metadata": {
        "id": "Lol-hyPcBByF"
      },
      "source": [
        "# Test data image reconstruction\n",
        "\n",
        "---\n",
        "\n"
      ]
    },
    {
      "cell_type": "code",
      "metadata": {
        "colab": {
          "base_uri": "https://localhost:8080/",
          "height": 336
        },
        "id": "mHybMXHyBAKH",
        "outputId": "fa8d2701-cf49-4901-fde7-2a402768212b"
      },
      "source": [
        "print(\"\\n\\nOriginal Images ....\")\n",
        "fig1 = plt.figure()\n",
        "for i in range(9):\n",
        "  plt.subplot(3,3,i+1)\n",
        "  plt.tight_layout()\n",
        "  plt.imshow(test[i].reshape((28,28)), cmap='gray', interpolation='none')\n",
        "  plt.title(\"Digit: {}\".format(test_y[i]))\n",
        "  plt.xticks([])\n",
        "  plt.yticks([])"
      ],
      "execution_count": 25,
      "outputs": [
        {
          "output_type": "stream",
          "text": [
            "\n",
            "\n",
            "Original Images ....\n"
          ],
          "name": "stdout"
        },
        {
          "output_type": "display_data",
          "data": {
            "image/png": "[encoded data removed]",
            "text/plain": [
              "<Figure size 432x288 with 9 Axes>"
            ]
          },
          "metadata": {
            "tags": []
          }
        }
      ]
    },
    {
      "cell_type": "code",
      "metadata": {
        "colab": {
          "base_uri": "https://localhost:8080/",
          "height": 373
        },
        "id": "kLQRDTvgBh_Z",
        "outputId": "34d4e345-4c46-4915-9ce0-6ed7e90fb15d"
      },
      "source": [
        "print(\"\\n\\nSampled images....\")\n",
        "fig2 = plt.figure()\n",
        "for i in range(9):\n",
        "  plt.subplot(3,3,i+1)\n",
        "  plt.tight_layout()\n",
        "\n",
        "  # 1 step sampling\n",
        "  img = rbm.reconstruct_image(test[i].T.reshape((784,1)))\n",
        "\n",
        "  plt.imshow(img.reshape((28,28)), cmap='gray', interpolation='none')\n",
        "  plt.title(\"Digit: {}\".format(test_y[i]))\n",
        "  plt.xticks([])\n",
        "  plt.yticks([])"
      ],
      "execution_count": 26,
      "outputs": [
        {
          "output_type": "stream",
          "text": [
            "\n",
            "\n",
            "Sampled images....\n"
          ],
          "name": "stdout"
        },
        {
          "output_type": "stream",
          "text": [
            "/usr/local/lib/python3.7/dist-packages/ipykernel_launcher.py:35: FutureWarning: Using a non-tuple sequence for multidimensional indexing is deprecated; use `arr[tuple(seq)]` instead of `arr[seq]`. In the future this will be interpreted as an array index, `arr[np.array(seq)]`, which will result either in an error or a different result.\n"
          ],
          "name": "stderr"
        },
        {
          "output_type": "display_data",
          "data": {
            "image/png": "[encoded data removed]",
            "text/plain": [
              "<Figure size 432x288 with 9 Axes>"
            ]
          },
          "metadata": {
            "tags": []
          }
        }
      ]
    }
  ]
}